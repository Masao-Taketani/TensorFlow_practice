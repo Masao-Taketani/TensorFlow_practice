{
 "cells": [
  {
   "cell_type": "code",
   "execution_count": 10,
   "metadata": {},
   "outputs": [],
   "source": [
    "import tensorflow as tf\n",
    "from tqdm import tqdm"
   ]
  },
  {
   "cell_type": "code",
   "execution_count": 23,
   "metadata": {},
   "outputs": [],
   "source": [
    "#define hyper params\n",
    "num_data = 4\n",
    "input_dim = 2\n",
    "hidden_dim = 32\n",
    "output_dim = 1\n",
    "\n",
    "inputs = tf.placeholder(tf.float32, shape=[num_data, input_dim], name=\"inputs\")\n",
    "labels = tf.placeholder(tf.float32, shape=[num_data, output_dim], name=\"outputs\")\n",
    "# set minval=-1, maxval=1 for weights variables\n",
    "w1 = tf.Variable(tf.random_uniform([input_dim, hidden_dim], -1, 1), name=\"weight_1\")\n",
    "w2 = tf.Variable(tf.random_uniform([hidden_dim, output_dim], -1, 1), name=\"weight_2\")\n",
    "b1 = tf.Variable(tf.zeros([hidden_dim]), name=\"bias_1\")\n",
    "b2 = tf.Variable(tf.zeros([output_dim]), name=\"bias_2\")\n",
    "\n",
    "# network architecture\n",
    "h = tf.sigmoid(tf.matmul(inputs, w1) + b1)\n",
    "pred = tf.sigmoid(tf.matmul(h, w2) + b2)\n",
    "\n",
    "# loss function(binary cross entropy)\n",
    "loss = tf.reduce_mean((- labels * tf.log(pred)) - (1 - labels) * tf.log(1.0 - pred))\n",
    "\n",
    "lr = 0.01\n",
    "train_step = tf.train.GradientDescentOptimizer(lr).minimize(loss)"
   ]
  },
  {
   "cell_type": "code",
   "execution_count": 24,
   "metadata": {},
   "outputs": [],
   "source": [
    "# dataset\n",
    "X = [[0,0], [0,1], [1,0], [1,1]]\n",
    "Y = [[0], [1], [1], [0]]"
   ]
  },
  {
   "cell_type": "code",
   "execution_count": 25,
   "metadata": {},
   "outputs": [
    {
     "name": "stderr",
     "output_type": "stream",
     "text": [
      "100%|██████████| 100000/100000 [01:20<00:00, 1236.15it/s]\n"
     ]
    },
    {
     "name": "stdout",
     "output_type": "stream",
     "text": [
      "Final Loss\n",
      " 0.0069694524\n",
      "Final Prediction\n",
      " [[0.00432971]\n",
      " [0.992349  ]\n",
      " [0.993536  ]\n",
      " [0.00932956]]\n"
     ]
    }
   ],
   "source": [
    "# start training\n",
    "iter_num = 100000\n",
    "\n",
    "with tf.Session() as sess: \n",
    "    sess.run(tf.global_variables_initializer())\n",
    "    log_writer = tf.summary.FileWriter(\"logs/XOR\", sess.graph)\n",
    "    for i in tqdm(range(iter_num)):\n",
    "        # calculate the loss and update the params \n",
    "        sess.run(train_step, feed_dict={inputs: X, labels: Y})\n",
    "    # final prediction given the dataset\n",
    "    print(\"Final Loss\\n\", sess.run(loss, feed_dict={inputs: X, labels: Y}))\n",
    "    print(\"Final Prediction\\n\", sess.run(pred, feed_dict={inputs: X, labels: Y}))"
   ]
  },
  {
   "cell_type": "code",
   "execution_count": null,
   "metadata": {},
   "outputs": [],
   "source": []
  }
 ],
 "metadata": {
  "kernelspec": {
   "display_name": "Python 3",
   "language": "python",
   "name": "python3"
  },
  "language_info": {
   "codemirror_mode": {
    "name": "ipython",
    "version": 3
   },
   "file_extension": ".py",
   "mimetype": "text/x-python",
   "name": "python",
   "nbconvert_exporter": "python",
   "pygments_lexer": "ipython3",
   "version": "3.5.2"
  }
 },
 "nbformat": 4,
 "nbformat_minor": 2
}
