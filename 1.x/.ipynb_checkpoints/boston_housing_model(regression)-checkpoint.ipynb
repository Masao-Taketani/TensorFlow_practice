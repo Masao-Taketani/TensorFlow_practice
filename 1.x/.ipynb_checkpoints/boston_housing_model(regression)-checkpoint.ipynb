{
 "cells": [
  {
   "cell_type": "code",
   "execution_count": 28,
   "metadata": {},
   "outputs": [],
   "source": [
    "import tensorflow as tf\n",
    "import numpy as np\n",
    "from sklearn.datasets import load_boston\n",
    "from tqdm import tqdm\n",
    "import matplotlib.pyplot as plt\n",
    "%matplotlib inline"
   ]
  },
  {
   "cell_type": "code",
   "execution_count": 15,
   "metadata": {},
   "outputs": [],
   "source": [
    "def get_boston_data():\n",
    "    dict_data = load_boston()\n",
    "    inputs = np.array(dict_data.data)\n",
    "    labels = np.array(dict_data.target)\n",
    "    return inputs, labels\n",
    "\n",
    "def normalize_data(data):\n",
    "    mu = np.mean(data, axis=0)\n",
    "    std = np.std(data, axis=0)\n",
    "    return (data - mu) / std\n",
    "\n",
    "# for linear regression model\n",
    "def add_bias(inputs):\n",
    "    num_data, num_input_dim = inputs.shape\n",
    "    bias_term = np.ones((num_data, 1))\n",
    "    new_inputs = np.concatenate((inputs, bias_term), axis=1)\n",
    "    return new_inputs"
   ]
  },
  {
   "cell_type": "code",
   "execution_count": 23,
   "metadata": {},
   "outputs": [],
   "source": [
    "inputs, labels = get_boston_data()\n",
    "labels = np.expand_dims(labels, axis=1)\n",
    "normalized_inputs = normalize_data(inputs)\n",
    "normalized_labels = normalize_data(labels)\n",
    "normalized_inputs_plus_bias = add_bias(normalized_inputs)\n",
    "input_dim = normalized_inputs_plus_bias.shape[1]\n",
    "output_dim = 1"
   ]
  },
  {
   "cell_type": "code",
   "execution_count": 24,
   "metadata": {},
   "outputs": [],
   "source": [
    "# define placeholders and a variable\n",
    "X = tf.placeholder(tf.float32, [None, input_dim])\n",
    "Y = tf.placeholder(tf.float32, [None, output_dim])\n",
    "w = tf.Variable(tf.random_normal((input_dim, 1)), name=\"weights\")"
   ]
  },
  {
   "cell_type": "markdown",
   "metadata": {},
   "source": [
    "# Linear Regression Model"
   ]
  },
  {
   "cell_type": "code",
   "execution_count": 25,
   "metadata": {},
   "outputs": [],
   "source": [
    "# define hyper params\n",
    "lr = 0.001\n",
    "num_epochs = 10000\n",
    "loss_log = []\n",
    "\n",
    "#linear regression model\n",
    "pred = tf.matmul(X, w)\n",
    "loss = tf.reduce_mean(tf.square(pred - Y))\n",
    "train_step = tf.train.GradientDescentOptimizer(lr).minimize(loss)"
   ]
  },
  {
   "cell_type": "code",
   "execution_count": 32,
   "metadata": {},
   "outputs": [
    {
     "name": "stderr",
     "output_type": "stream",
     "text": [
      "100%|██████████| 10000/10000 [00:13<00:00, 719.20it/s]"
     ]
    },
    {
     "name": "stdout",
     "output_type": "stream",
     "text": [
      "Final Loss\n",
      " 0.2642085\n",
      "The Best Loss\n",
      " 0.2603946\n"
     ]
    },
    {
     "name": "stderr",
     "output_type": "stream",
     "text": [
      "\n"
     ]
    },
    {
     "data": {
      "text/plain": [
       "[<matplotlib.lines.Line2D at 0x7ffa80265b00>]"
      ]
     },
     "execution_count": 32,
     "metadata": {},
     "output_type": "execute_result"
    },
    {
     "data": {
      "image/png": "[encoded data removed]",
      "text/plain": [
       "<Figure size 432x288 with 1 Axes>"
      ]
     },
     "metadata": {
      "needs_background": "light"
     },
     "output_type": "display_data"
    }
   ],
   "source": [
    "# train the linear model\n",
    "with tf.Session() as sess:\n",
    "    sess.run(tf.global_variables_initializer())\n",
    "    for i in tqdm(range(num_epochs)):\n",
    "        sess.run(train_step, feed_dict={X: normalized_inputs_plus_bias, Y: normalized_labels})\n",
    "        loss_log.append(sess.run(loss, feed_dict={X: normalized_inputs_plus_bias, Y: normalized_labels}))\n",
    "    print(\"Final Loss\\n\", sess.run(loss, feed_dict={X: normalized_inputs_plus_bias, Y: normalized_labels}))\n",
    "    \n",
    "print(\"The Best Loss\\n\", min(loss_log))\n",
    "plt.plot(loss_log)"
   ]
  },
  {
   "cell_type": "markdown",
   "metadata": {},
   "source": [
    "# MLP(Multi-Layer Perceptron) Model"
   ]
  },
  {
   "cell_type": "code",
   "execution_count": null,
   "metadata": {},
   "outputs": [],
   "source": []
  }
 ],
 "metadata": {
  "kernelspec": {
   "display_name": "Python 3",
   "language": "python",
   "name": "python3"
  },
  "language_info": {
   "codemirror_mode": {
    "name": "ipython",
    "version": 3
   },
   "file_extension": ".py",
   "mimetype": "text/x-python",
   "name": "python",
   "nbconvert_exporter": "python",
   "pygments_lexer": "ipython3",
   "version": "3.5.2"
  }
 },
 "nbformat": 4,
 "nbformat_minor": 2
}
