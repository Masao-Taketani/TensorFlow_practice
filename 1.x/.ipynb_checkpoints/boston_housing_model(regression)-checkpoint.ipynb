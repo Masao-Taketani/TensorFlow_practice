{
 "cells": [
  {
   "cell_type": "code",
   "execution_count": 8,
   "metadata": {},
   "outputs": [],
   "source": [
    "import tensorflow as tf\n",
    "import numpy as np\n",
    "from sklearn.datasets import load_boston\n",
    "from tqdm import tqdm\n",
    "import matplotlib.pyplot as plt\n",
    "%matplotlib inline"
   ]
  },
  {
   "cell_type": "code",
   "execution_count": 9,
   "metadata": {},
   "outputs": [],
   "source": [
    "def get_boston_data():\n",
    "    dict_data = load_boston()\n",
    "    inputs = np.array(dict_data.data)\n",
    "    labels = np.array(dict_data.target)\n",
    "    return inputs, labels\n",
    "\n",
    "def normalize_data(data):\n",
    "    mu = np.mean(data, axis=0)\n",
    "    std = np.std(data, axis=0)\n",
    "    return (data - mu) / std\n",
    "\n",
    "# for linear regression model\n",
    "def add_bias(inputs):\n",
    "    num_data, num_input_dim = inputs.shape\n",
    "    bias_term = np.ones((num_data, 1))\n",
    "    new_inputs = np.concatenate((inputs, bias_term), axis=1)\n",
    "    return new_inputs"
   ]
  },
  {
   "cell_type": "code",
   "execution_count": 10,
   "metadata": {},
   "outputs": [],
   "source": [
    "inputs, labels = get_boston_data()\n",
    "labels = np.expand_dims(labels, axis=1)\n",
    "normalized_inputs = normalize_data(inputs)\n",
    "normalized_labels = normalize_data(labels)\n",
    "normalized_inputs_plus_bias = add_bias(normalized_inputs)\n",
    "input_dim = normalized_inputs_plus_bias.shape[1]\n",
    "output_dim = 1"
   ]
  },
  {
   "cell_type": "code",
   "execution_count": 11,
   "metadata": {},
   "outputs": [],
   "source": [
    "# define placeholders and a variable\n",
    "X = tf.placeholder(tf.float32, [None, input_dim])\n",
    "Y = tf.placeholder(tf.float32, [None, output_dim])\n",
    "w = tf.Variable(tf.random_normal((input_dim, output_dim)), name=\"weights\")"
   ]
  },
  {
   "cell_type": "markdown",
   "metadata": {},
   "source": [
    "# Linear Regression Model"
   ]
  },
  {
   "cell_type": "code",
   "execution_count": 12,
   "metadata": {},
   "outputs": [],
   "source": [
    "# define hyper params\n",
    "lr = 0.001\n",
    "num_epochs = 10000\n",
    "linear_loss_log = []\n",
    "\n",
    "#linear regression model\n",
    "pred = tf.matmul(X, w)\n",
    "loss = tf.reduce_mean(tf.square(pred - Y))\n",
    "train_step = tf.train.GradientDescentOptimizer(lr).minimize(loss)"
   ]
  },
  {
   "cell_type": "code",
   "execution_count": 13,
   "metadata": {},
   "outputs": [
    {
     "name": "stderr",
     "output_type": "stream",
     "text": [
      "100%|██████████| 10000/10000 [00:13<00:00, 730.84it/s]"
     ]
    },
    {
     "name": "stdout",
     "output_type": "stream",
     "text": [
      "Final Loss\n",
      " 0.26355425\n",
      "The Best Loss\n",
      " 0.26015604\n"
     ]
    },
    {
     "name": "stderr",
     "output_type": "stream",
     "text": [
      "\n"
     ]
    },
    {
     "data": {
      "text/plain": [
       "[<matplotlib.lines.Line2D at 0x7ffedc326e80>]"
      ]
     },
     "execution_count": 13,
     "metadata": {},
     "output_type": "execute_result"
    },
    {
     "data": {
      "image/png": "[encoded data removed]",
      "text/plain": [
       "<Figure size 432x288 with 1 Axes>"
      ]
     },
     "metadata": {
      "needs_background": "light"
     },
     "output_type": "display_data"
    }
   ],
   "source": [
    "# train the linear model\n",
    "with tf.Session() as sess:\n",
    "    sess.run(tf.global_variables_initializer())\n",
    "    for i in tqdm(range(num_epochs)):\n",
    "        sess.run(train_step, feed_dict={X: normalized_inputs_plus_bias, Y: normalized_labels})\n",
    "        linear_loss_log.append(sess.run(loss, feed_dict={X: normalized_inputs_plus_bias, Y: normalized_labels}))\n",
    "    print(\"Final Loss\\n\", sess.run(loss, feed_dict={X: normalized_inputs_plus_bias, Y: normalized_labels}))\n",
    "    \n",
    "print(\"The Best Loss\\n\", min(linear_loss_log))\n",
    "plt.title(\"Linear Model\")\n",
    "plt.xlabel(\"epochs\")\n",
    "plt.ylabel(\"loss\")\n",
    "plt.plot(linear_loss_log)"
   ]
  },
  {
   "cell_type": "markdown",
   "metadata": {},
   "source": [
    "# MLP(Multi-Layer Perceptron) Model"
   ]
  },
  {
   "cell_type": "code",
   "execution_count": 37,
   "metadata": {},
   "outputs": [],
   "source": [
    "hidden_dim = 64\n",
    "\n",
    "#initialize variable\n",
    "w1 = tf.Variable(tf.random_normal((input_dim, hidden_dim)), name=\"weights_1\")\n",
    "w2 = tf.Variable(tf.random_normal((hidden_dim, output_dim)), name=\"weights_2\")"
   ]
  },
  {
   "cell_type": "code",
   "execution_count": 38,
   "metadata": {},
   "outputs": [],
   "source": [
    "mlp_loss_log = []\n",
    "\n",
    "#mlp model\n",
    "h = tf.nn.relu(tf.matmul(X, w1))\n",
    "pred = tf.nn.relu(tf.matmul(h, w2))"
   ]
  },
  {
   "cell_type": "code",
   "execution_count": 39,
   "metadata": {},
   "outputs": [
    {
     "name": "stderr",
     "output_type": "stream",
     "text": [
      "100%|██████████| 10000/10000 [00:13<00:00, 718.53it/s]"
     ]
    },
    {
     "name": "stdout",
     "output_type": "stream",
     "text": [
      "Final Loss\n",
      " 0.26029527\n",
      "The Best Loss\n",
      " 0.26029527\n"
     ]
    },
    {
     "name": "stderr",
     "output_type": "stream",
     "text": [
      "\n"
     ]
    },
    {
     "data": {
      "text/plain": [
       "[<matplotlib.lines.Line2D at 0x7ffa843b7198>]"
      ]
     },
     "execution_count": 39,
     "metadata": {},
     "output_type": "execute_result"
    },
    {
     "data": {
      "image/png": "[encoded data removed]",
      "text/plain": [
       "<Figure size 432x288 with 1 Axes>"
      ]
     },
     "metadata": {
      "needs_background": "light"
     },
     "output_type": "display_data"
    }
   ],
   "source": [
    "with tf.Session() as sess:\n",
    "    sess.run(tf.global_variables_initializer())\n",
    "    for i in tqdm(range(num_epochs)):\n",
    "        sess.run(train_step, feed_dict={X: normalized_inputs_plus_bias, Y: normalized_labels})\n",
    "        mlp_loss_log.append(sess.run(loss, feed_dict={X: normalized_inputs_plus_bias, Y: normalized_labels}))\n",
    "    print(\"Final Loss\\n\", sess.run(loss, feed_dict={X: normalized_inputs_plus_bias, Y: normalized_labels}))\n",
    "    \n",
    "print(\"The Best Loss\\n\", min(mlp_loss_log))\n",
    "plt.title(\"MLP Model\")\n",
    "plt.xlabel(\"epochs\")\n",
    "plt.ylabel(\"loss\")\n",
    "plt.plot(mlp_loss_log)"
   ]
  },
  {
   "cell_type": "code",
   "execution_count": null,
   "metadata": {},
   "outputs": [],
   "source": []
  },
  {
   "cell_type": "code",
   "execution_count": null,
   "metadata": {},
   "outputs": [],
   "source": []
  }
 ],
 "metadata": {
  "kernelspec": {
   "display_name": "Python 3",
   "language": "python",
   "name": "python3"
  },
  "language_info": {
   "codemirror_mode": {
    "name": "ipython",
    "version": 3
   },
   "file_extension": ".py",
   "mimetype": "text/x-python",
   "name": "python",
   "nbconvert_exporter": "python",
   "pygments_lexer": "ipython3",
   "version": "3.5.2"
  }
 },
 "nbformat": 4,
 "nbformat_minor": 2
}
