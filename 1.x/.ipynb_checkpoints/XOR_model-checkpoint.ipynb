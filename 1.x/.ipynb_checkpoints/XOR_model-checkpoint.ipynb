{
 "cells": [
  {
   "cell_type": "code",
   "execution_count": 9,
   "metadata": {},
   "outputs": [],
   "source": [
    "import tensorflow as tf\n",
    "from tqdm import tqdm"
   ]
  },
  {
   "cell_type": "code",
   "execution_count": 3,
   "metadata": {},
   "outputs": [],
   "source": [
    "inputs = tf.placeholder(tf.float32, shape=[4, 2], name=\"inputs\")\n",
    "labels = tf.placeholder(tf.float32, shape=[4, 1], name=\"outputs\")\n",
    "# set minval=-1, maxval=1 for weights variables\n",
    "# hidden units: 2\n",
    "# output units: 1\n",
    "w1 = tf.Variable(tf.random_uniform([2,2], -1, 1), name=\"weight_1\")\n",
    "w2 = tf.Variable(tf.random_uniform([2,1], -1, 1), name=\"weight_2\")\n",
    "b1 = tf.Variable(tf.zeros([2]), name=\"bias_1\")\n",
    "b2 = tf.Variable(tf.zeros([1]), name=\"bias_2\")\n",
    "\n",
    "# network architecture\n",
    "z = tf.sigmoid(tf.matmul(inputs, w1) + b1)\n",
    "pred = tf.sigmoid(tf.matmul(z, w2) + b2)\n",
    "\n",
    "# cost function(binary cross entropy)\n",
    "cost = tf.reduce_mean((- labels * tf.log(pred)) - (1 - labels) * tf.log(1.0 - pred))\n",
    "\n",
    "lr = 0.01\n",
    "train_step = tf.train.GradientDescentOptimizer(lr).minimize(cost)"
   ]
  },
  {
   "cell_type": "code",
   "execution_count": 4,
   "metadata": {},
   "outputs": [],
   "source": [
    "# dataset\n",
    "X = [[0,0], [0,1], [1,0], [1,1]]\n",
    "Y = [[0], [1], [1], [0]]"
   ]
  },
  {
   "cell_type": "code",
   "execution_count": 12,
   "metadata": {},
   "outputs": [
    {
     "name": "stderr",
     "output_type": "stream",
     "text": [
      "100%|██████████| 100000/100000 [01:19<00:00, 1260.69it/s]"
     ]
    },
    {
     "name": "stdout",
     "output_type": "stream",
     "text": [
      "Final Result\n",
      " [[0.01544555]\n",
      " [0.9856785 ]\n",
      " [0.49788812]\n",
      " [0.5066142 ]]\n"
     ]
    },
    {
     "name": "stderr",
     "output_type": "stream",
     "text": [
      "\n"
     ]
    }
   ],
   "source": [
    "# start training\n",
    "iter_num = 100000\n",
    "\n",
    "with tf.Session() as sess: \n",
    "    sess.run(tf.global_variables_initializer())\n",
    "    log_writer = tf.summary.FileWriter(\"logs/XOR\", sess.graph)\n",
    "    for i in tqdm(range(iter_num)):\n",
    "        # calculate the cost and update the params \n",
    "        sess.run(train_step, feed_dict={inputs: X, labels: Y})\n",
    "    # final prediction given the dataset\n",
    "    print(\"Final Result\\n\", sess.run(pred, feed_dict={inputs: X, labels: Y}))"
   ]
  },
  {
   "cell_type": "code",
   "execution_count": null,
   "metadata": {},
   "outputs": [],
   "source": []
  }
 ],
 "metadata": {
  "kernelspec": {
   "display_name": "Python 3",
   "language": "python",
   "name": "python3"
  },
  "language_info": {
   "codemirror_mode": {
    "name": "ipython",
    "version": 3
   },
   "file_extension": ".py",
   "mimetype": "text/x-python",
   "name": "python",
   "nbconvert_exporter": "python",
   "pygments_lexer": "ipython3",
   "version": "3.5.2"
  }
 },
 "nbformat": 4,
 "nbformat_minor": 2
}
