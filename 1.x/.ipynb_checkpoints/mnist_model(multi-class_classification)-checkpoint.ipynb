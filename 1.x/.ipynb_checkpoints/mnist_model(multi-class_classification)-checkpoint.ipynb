{
 "cells": [
  {
   "cell_type": "code",
   "execution_count": 2,
   "metadata": {},
   "outputs": [],
   "source": [
    "import tensorflow as tf\n",
    "from tensorflow.examples.tutorials.mnist import input_data\n",
    "import numpy as np"
   ]
  },
  {
   "cell_type": "code",
   "execution_count": 3,
   "metadata": {},
   "outputs": [
    {
     "name": "stdout",
     "output_type": "stream",
     "text": [
      "Extracting MNIST_data/train-images-idx3-ubyte.gz\n",
      "Extracting MNIST_data/train-labels-idx1-ubyte.gz\n",
      "Extracting MNIST_data/t10k-images-idx3-ubyte.gz\n",
      "Extracting MNIST_data/t10k-labels-idx1-ubyte.gz\n"
     ]
    }
   ],
   "source": [
    "# prepare data\n",
    "mnist_dataset = input_data.read_data_sets(\"MNIST_data/\", one_hot=True)\n",
    "train_X, train_Y, test_X, test_Y = mnist_dataset.train.images,\\\n",
    "mnist_dataset.train.labels, mnist_dataset.test.images, mnist_dataset.test.labels"
   ]
  },
  {
   "cell_type": "code",
   "execution_count": 4,
   "metadata": {},
   "outputs": [],
   "source": [
    "# define hyper params\n",
    "input_dim = train_X.shape[1]\n",
    "hidden_dim = 1024\n",
    "num_classes = 10\n",
    "lr = 0.01\n",
    "epochs = 50\n",
    "batch_size = 64\n",
    "iters_per_epoch = train_X.shape[0] // batch_size\n",
    "\n",
    "# define placeholders and variables\n",
    "X = tf.placeholder(tf.float32, [None, input_dim])\n",
    "Y = tf.placeholder(tf.float32, [None, num_classes])\n",
    "w1 = tf.Variable(tf.random_normal([input_dim, hidden_dim], stddev=0.01), name=\"weights_1\")\n",
    "w2 = tf.Variable(tf.random_normal([hidden_dim, num_classes], stddev=0.01), name=\"weights_2\")\n",
    "b1 = tf.Variable(tf.ones([hidden_dim]), name=\"biases_1\")\n",
    "b2 = tf.Variable(tf.ones([num_classes]), name=\"biases_2\")"
   ]
  },
  {
   "cell_type": "code",
   "execution_count": 5,
   "metadata": {},
   "outputs": [],
   "source": [
    "# define network architecture\n",
    "h = tf.nn.relu(tf.matmul(X, w1) + b1)\n",
    "pred = tf.nn.relu(tf.matmul(h, w2) + b2)"
   ]
  },
  {
   "cell_type": "code",
   "execution_count": 6,
   "metadata": {},
   "outputs": [],
   "source": [
    "# define loss function\n",
    "loss = tf.reduce_mean(tf.nn.softmax_cross_entropy_with_logits_v2(logits=pred, labels=Y))"
   ]
  },
  {
   "cell_type": "code",
   "execution_count": 7,
   "metadata": {},
   "outputs": [],
   "source": [
    "# define training operation using Adam optimizer\n",
    "train_op = tf.train.AdadeltaOptimizer(lr).minimize(loss)"
   ]
  },
  {
   "cell_type": "code",
   "execution_count": 9,
   "metadata": {},
   "outputs": [
    {
     "name": "stdout",
     "output_type": "stream",
     "text": [
      "epoch:1 acc:0.645 loss:1.961 test_acc:0.658 test_loss:1.955\n"
     ]
    },
    {
     "ename": "KeyboardInterrupt",
     "evalue": "",
     "output_type": "error",
     "traceback": [
      "\u001b[0;31m---------------------------------------------------------------------------\u001b[0m",
      "\u001b[0;31mKeyboardInterrupt\u001b[0m                         Traceback (most recent call last)",
      "\u001b[0;32m<ipython-input-9-fb656717831b>\u001b[0m in \u001b[0;36m<module>\u001b[0;34m\u001b[0m\n\u001b[1;32m     12\u001b[0m \u001b[0;34m\u001b[0m\u001b[0m\n\u001b[1;32m     13\u001b[0m         \u001b[0;32mfor\u001b[0m \u001b[0mit\u001b[0m \u001b[0;32min\u001b[0m \u001b[0mrange\u001b[0m\u001b[0;34m(\u001b[0m\u001b[0miters_per_epoch\u001b[0m\u001b[0;34m)\u001b[0m\u001b[0;34m:\u001b[0m\u001b[0;34m\u001b[0m\u001b[0m\n\u001b[0;32m---> 14\u001b[0;31m             \u001b[0msess\u001b[0m\u001b[0;34m.\u001b[0m\u001b[0mrun\u001b[0m\u001b[0;34m(\u001b[0m\u001b[0mtrain_op\u001b[0m\u001b[0;34m,\u001b[0m \u001b[0mfeed_dict\u001b[0m\u001b[0;34m=\u001b[0m\u001b[0;34m{\u001b[0m\u001b[0mX\u001b[0m\u001b[0;34m:\u001b[0m \u001b[0mtrain_X\u001b[0m\u001b[0;34m[\u001b[0m\u001b[0mrand_indexes\u001b[0m\u001b[0;34m]\u001b[0m\u001b[0;34m[\u001b[0m\u001b[0mit\u001b[0m\u001b[0;34m*\u001b[0m\u001b[0mbatch_size\u001b[0m\u001b[0;34m:\u001b[0m\u001b[0;34m(\u001b[0m\u001b[0mit\u001b[0m\u001b[0;34m+\u001b[0m\u001b[0;36m1\u001b[0m\u001b[0;34m)\u001b[0m\u001b[0;34m*\u001b[0m\u001b[0mbatch_size\u001b[0m\u001b[0;34m]\u001b[0m\u001b[0;34m,\u001b[0m \u001b[0mY\u001b[0m\u001b[0;34m:\u001b[0m \u001b[0mtrain_Y\u001b[0m\u001b[0;34m[\u001b[0m\u001b[0mrand_indexes\u001b[0m\u001b[0;34m]\u001b[0m\u001b[0;34m[\u001b[0m\u001b[0mit\u001b[0m\u001b[0;34m*\u001b[0m\u001b[0mbatch_size\u001b[0m\u001b[0;34m:\u001b[0m\u001b[0;34m(\u001b[0m\u001b[0mit\u001b[0m\u001b[0;34m+\u001b[0m\u001b[0;36m1\u001b[0m\u001b[0;34m)\u001b[0m\u001b[0;34m*\u001b[0m\u001b[0mbatch_size\u001b[0m\u001b[0;34m]\u001b[0m\u001b[0;34m}\u001b[0m\u001b[0;34m)\u001b[0m\u001b[0;34m\u001b[0m\u001b[0m\n\u001b[0m\u001b[1;32m     15\u001b[0m \u001b[0;34m\u001b[0m\u001b[0m\n\u001b[1;32m     16\u001b[0m         \u001b[0mtmp_loss\u001b[0m \u001b[0;34m=\u001b[0m \u001b[0msess\u001b[0m\u001b[0;34m.\u001b[0m\u001b[0mrun\u001b[0m\u001b[0;34m(\u001b[0m\u001b[0mloss\u001b[0m\u001b[0;34m,\u001b[0m \u001b[0mfeed_dict\u001b[0m\u001b[0;34m=\u001b[0m\u001b[0;34m{\u001b[0m\u001b[0mX\u001b[0m\u001b[0;34m:\u001b[0m \u001b[0mtrain_X\u001b[0m\u001b[0;34m,\u001b[0m \u001b[0mY\u001b[0m\u001b[0;34m:\u001b[0m \u001b[0mtrain_Y\u001b[0m\u001b[0;34m}\u001b[0m\u001b[0;34m)\u001b[0m\u001b[0;34m\u001b[0m\u001b[0m\n",
      "\u001b[0;31mKeyboardInterrupt\u001b[0m: "
     ]
    }
   ],
   "source": [
    "loss_log = []\n",
    "test_loss_log = []\n",
    "acc_log = []\n",
    "test_acc_log = []\n",
    "\n",
    "with tf.Session() as sess:\n",
    "    sess.run(tf.global_variables_initializer())\n",
    "    # training & test loop\n",
    "    for epoch in range(epochs):\n",
    "        # shuffle dataset for every epoch\n",
    "        rand_indexes = np.random.permutation(train_X.shape[0])\n",
    "        \n",
    "        for it in range(iters_per_epoch):\n",
    "            sess.run(train_op, feed_dict={X: train_X[rand_indexes][it*batch_size:(it+1)*batch_size], Y: train_Y[rand_indexes][it*batch_size:(it+1)*batch_size]})\n",
    "            \n",
    "        tmp_loss = sess.run(loss, feed_dict={X: train_X, Y: train_Y})\n",
    "        tmp_test_loss = sess.run(loss, feed_dict={X: test_X, Y: test_Y})\n",
    "        tmp_acc = np.mean(np.argmax(sess.run(pred, feed_dict={X: train_X, Y: train_Y}), axis=1) == np.argmax(train_Y, axis=1))\n",
    "        tmp_test_acc = np.mean(np.argmax(sess.run(pred, feed_dict={X: test_X, Y: test_Y}), axis=1) == np.argmax(test_Y, axis=1))\n",
    "        loss_log.append(tmp_loss)\n",
    "        test_loss_log.append(tmp_test_loss)\n",
    "        acc_log.append(tmp_acc)\n",
    "        test_acc_log.append(tmp_test_acc)\n",
    "\n",
    "        print(\"epoch:{} acc:{:.3f} loss:{:.3f} test_acc:{:.3f} test_loss:{:.3f}\".format(epoch+1, tmp_acc, tmp_loss, tmp_test_acc, tmp_test_loss))"
   ]
  },
  {
   "cell_type": "code",
   "execution_count": null,
   "metadata": {},
   "outputs": [],
   "source": []
  }
 ],
 "metadata": {
  "kernelspec": {
   "display_name": "Python 3",
   "language": "python",
   "name": "python3"
  },
  "language_info": {
   "codemirror_mode": {
    "name": "ipython",
    "version": 3
   },
   "file_extension": ".py",
   "mimetype": "text/x-python",
   "name": "python",
   "nbconvert_exporter": "python",
   "pygments_lexer": "ipython3",
   "version": "3.5.2"
  }
 },
 "nbformat": 4,
 "nbformat_minor": 2
}
