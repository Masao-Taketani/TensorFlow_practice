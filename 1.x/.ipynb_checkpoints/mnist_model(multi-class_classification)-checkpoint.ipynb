{
 "cells": [
  {
   "cell_type": "code",
   "execution_count": 8,
   "metadata": {},
   "outputs": [],
   "source": [
    "import tensorflow as tf\n",
    "from tensorflow.examples.tutorials.mnist import input_data\n",
    "import numpy as np\n",
    "import matplotlib.pyplot as plt\n",
    "%matplotlib inline"
   ]
  },
  {
   "cell_type": "code",
   "execution_count": 2,
   "metadata": {},
   "outputs": [
    {
     "name": "stdout",
     "output_type": "stream",
     "text": [
      "Extracting MNIST_data/train-images-idx3-ubyte.gz\n",
      "Extracting MNIST_data/train-labels-idx1-ubyte.gz\n",
      "Extracting MNIST_data/t10k-images-idx3-ubyte.gz\n",
      "Extracting MNIST_data/t10k-labels-idx1-ubyte.gz\n"
     ]
    }
   ],
   "source": [
    "# prepare data\n",
    "mnist_dataset = input_data.read_data_sets(\"MNIST_data/\", one_hot=True)\n",
    "train_X, train_Y, test_X, test_Y = mnist_dataset.train.images,\\\n",
    "mnist_dataset.train.labels, mnist_dataset.test.images, mnist_dataset.test.labels"
   ]
  },
  {
   "cell_type": "code",
   "execution_count": 3,
   "metadata": {},
   "outputs": [],
   "source": [
    "# define hyper params\n",
    "input_dim = train_X.shape[1]\n",
    "hidden_dim = 1024\n",
    "num_classes = 10\n",
    "lr = 0.01\n",
    "epochs = 50\n",
    "batch_size = 64\n",
    "iters_per_epoch = train_X.shape[0] // batch_size\n",
    "\n",
    "# define placeholders and variables\n",
    "X = tf.placeholder(tf.float32, [None, input_dim])\n",
    "Y = tf.placeholder(tf.float32, [None, num_classes])\n",
    "w1 = tf.Variable(tf.random_normal([input_dim, hidden_dim], stddev=0.01), name=\"weights_1\")\n",
    "w2 = tf.Variable(tf.random_normal([hidden_dim, num_classes], stddev=0.01), name=\"weights_2\")\n",
    "b1 = tf.Variable(tf.ones([hidden_dim]), name=\"biases_1\")\n",
    "b2 = tf.Variable(tf.ones([num_classes]), name=\"biases_2\")"
   ]
  },
  {
   "cell_type": "code",
   "execution_count": 4,
   "metadata": {},
   "outputs": [],
   "source": [
    "# define network architecture\n",
    "h = tf.nn.relu(tf.matmul(X, w1) + b1)\n",
    "pred = tf.nn.relu(tf.matmul(h, w2) + b2)"
   ]
  },
  {
   "cell_type": "code",
   "execution_count": 5,
   "metadata": {},
   "outputs": [],
   "source": [
    "# define loss function\n",
    "loss = tf.reduce_mean(tf.nn.softmax_cross_entropy_with_logits_v2(logits=pred, labels=Y))"
   ]
  },
  {
   "cell_type": "code",
   "execution_count": 6,
   "metadata": {},
   "outputs": [],
   "source": [
    "# define training operation using Adam optimizer\n",
    "train_op = tf.train.AdadeltaOptimizer(lr).minimize(loss)"
   ]
  },
  {
   "cell_type": "code",
   "execution_count": 7,
   "metadata": {},
   "outputs": [
    {
     "name": "stdout",
     "output_type": "stream",
     "text": [
      "epoch:1 acc:0.658 loss:1.960 test_acc:0.675 test_loss:1.954\n",
      "epoch:2 acc:0.729 loss:1.647 test_acc:0.748 test_loss:1.634\n",
      "epoch:3 acc:0.779 loss:1.383 test_acc:0.795 test_loss:1.366\n",
      "epoch:4 acc:0.796 loss:1.168 test_acc:0.808 test_loss:1.148\n",
      "epoch:5 acc:0.820 loss:1.000 test_acc:0.835 test_loss:0.978\n",
      "epoch:6 acc:0.832 loss:0.871 test_acc:0.843 test_loss:0.848\n",
      "epoch:7 acc:0.841 loss:0.774 test_acc:0.853 test_loss:0.752\n",
      "epoch:8 acc:0.849 loss:0.701 test_acc:0.859 test_loss:0.678\n",
      "epoch:9 acc:0.855 loss:0.645 test_acc:0.866 test_loss:0.622\n",
      "epoch:10 acc:0.862 loss:0.600 test_acc:0.871 test_loss:0.578\n",
      "epoch:11 acc:0.865 loss:0.564 test_acc:0.874 test_loss:0.542\n",
      "epoch:12 acc:0.870 loss:0.535 test_acc:0.877 test_loss:0.513\n",
      "epoch:13 acc:0.873 loss:0.511 test_acc:0.880 test_loss:0.489\n",
      "epoch:14 acc:0.876 loss:0.490 test_acc:0.883 test_loss:0.469\n",
      "epoch:15 acc:0.878 loss:0.473 test_acc:0.886 test_loss:0.452\n",
      "epoch:16 acc:0.881 loss:0.459 test_acc:0.887 test_loss:0.437\n",
      "epoch:17 acc:0.883 loss:0.446 test_acc:0.889 test_loss:0.425\n",
      "epoch:18 acc:0.885 loss:0.434 test_acc:0.891 test_loss:0.414\n",
      "epoch:19 acc:0.886 loss:0.425 test_acc:0.893 test_loss:0.404\n",
      "epoch:20 acc:0.888 loss:0.416 test_acc:0.894 test_loss:0.396\n",
      "epoch:21 acc:0.889 loss:0.408 test_acc:0.896 test_loss:0.388\n",
      "epoch:22 acc:0.890 loss:0.401 test_acc:0.896 test_loss:0.382\n",
      "epoch:23 acc:0.892 loss:0.394 test_acc:0.898 test_loss:0.375\n",
      "epoch:24 acc:0.893 loss:0.389 test_acc:0.899 test_loss:0.370\n",
      "epoch:25 acc:0.894 loss:0.383 test_acc:0.900 test_loss:0.365\n",
      "epoch:26 acc:0.895 loss:0.378 test_acc:0.901 test_loss:0.360\n",
      "epoch:27 acc:0.896 loss:0.374 test_acc:0.901 test_loss:0.355\n",
      "epoch:28 acc:0.896 loss:0.370 test_acc:0.903 test_loss:0.352\n",
      "epoch:29 acc:0.897 loss:0.366 test_acc:0.904 test_loss:0.348\n",
      "epoch:30 acc:0.898 loss:0.362 test_acc:0.904 test_loss:0.344\n",
      "epoch:31 acc:0.899 loss:0.359 test_acc:0.905 test_loss:0.341\n",
      "epoch:32 acc:0.900 loss:0.356 test_acc:0.905 test_loss:0.338\n",
      "epoch:33 acc:0.900 loss:0.353 test_acc:0.905 test_loss:0.336\n",
      "epoch:34 acc:0.900 loss:0.350 test_acc:0.907 test_loss:0.333\n",
      "epoch:35 acc:0.901 loss:0.347 test_acc:0.907 test_loss:0.330\n",
      "epoch:36 acc:0.902 loss:0.345 test_acc:0.908 test_loss:0.328\n",
      "epoch:37 acc:0.902 loss:0.342 test_acc:0.908 test_loss:0.326\n",
      "epoch:38 acc:0.903 loss:0.340 test_acc:0.908 test_loss:0.324\n",
      "epoch:39 acc:0.903 loss:0.338 test_acc:0.909 test_loss:0.322\n",
      "epoch:40 acc:0.904 loss:0.336 test_acc:0.909 test_loss:0.320\n",
      "epoch:41 acc:0.904 loss:0.334 test_acc:0.910 test_loss:0.318\n",
      "epoch:42 acc:0.905 loss:0.332 test_acc:0.911 test_loss:0.317\n",
      "epoch:43 acc:0.906 loss:0.330 test_acc:0.911 test_loss:0.315\n",
      "epoch:44 acc:0.906 loss:0.328 test_acc:0.911 test_loss:0.314\n",
      "epoch:45 acc:0.906 loss:0.326 test_acc:0.912 test_loss:0.312\n",
      "epoch:46 acc:0.907 loss:0.325 test_acc:0.912 test_loss:0.311\n",
      "epoch:47 acc:0.907 loss:0.323 test_acc:0.912 test_loss:0.309\n",
      "epoch:48 acc:0.908 loss:0.322 test_acc:0.912 test_loss:0.308\n",
      "epoch:49 acc:0.908 loss:0.320 test_acc:0.913 test_loss:0.306\n",
      "epoch:50 acc:0.908 loss:0.319 test_acc:0.913 test_loss:0.305\n"
     ]
    }
   ],
   "source": [
    "loss_log = []\n",
    "test_loss_log = []\n",
    "acc_log = []\n",
    "test_acc_log = []\n",
    "\n",
    "with tf.Session() as sess:\n",
    "    sess.run(tf.global_variables_initializer())\n",
    "    # training & test loop\n",
    "    for epoch in range(epochs):\n",
    "        # shuffle dataset for every epoch\n",
    "        rand_indexes = np.random.permutation(train_X.shape[0])\n",
    "        \n",
    "        for it in range(iters_per_epoch):\n",
    "            sess.run(train_op, feed_dict={X: train_X[rand_indexes][it*batch_size:(it+1)*batch_size], Y: train_Y[rand_indexes][it*batch_size:(it+1)*batch_size]})\n",
    "            \n",
    "        tmp_loss = sess.run(loss, feed_dict={X: train_X, Y: train_Y})\n",
    "        tmp_test_loss = sess.run(loss, feed_dict={X: test_X, Y: test_Y})\n",
    "        tmp_acc = np.mean(np.argmax(sess.run(pred, feed_dict={X: train_X, Y: train_Y}), axis=1) == np.argmax(train_Y, axis=1))\n",
    "        tmp_test_acc = np.mean(np.argmax(sess.run(pred, feed_dict={X: test_X, Y: test_Y}), axis=1) == np.argmax(test_Y, axis=1))\n",
    "        loss_log.append(tmp_loss)\n",
    "        test_loss_log.append(tmp_test_loss)\n",
    "        acc_log.append(tmp_acc)\n",
    "        test_acc_log.append(tmp_test_acc)\n",
    "\n",
    "        print(\"epoch:{} acc:{:.3f} loss:{:.3f} test_acc:{:.3f} test_loss:{:.3f}\".format(epoch+1, tmp_acc, tmp_loss, tmp_test_acc, tmp_test_loss))"
   ]
  },
  {
   "cell_type": "code",
   "execution_count": 17,
   "metadata": {},
   "outputs": [
    {
     "data": {
      "image/png": "[encoded data removed]",
      "text/plain": [
       "<Figure size 432x288 with 1 Axes>"
      ]
     },
     "metadata": {
      "needs_background": "light"
     },
     "output_type": "display_data"
    }
   ],
   "source": [
    "# plot the acc log for train & test\n",
    "plt.plot(range(epochs), acc_log, label=\"train acc\")\n",
    "plt.plot(range(epochs), test_acc_log, label=\"test acc\")\n",
    "plt.title(\"Accuracy Analysis\")\n",
    "plt.xlabel(\"number of epoch(s)\")\n",
    "plt.ylabel(\"accuracy\")\n",
    "plt.legend(loc=\"lower right\")\n",
    "plt.show()"
   ]
  },
  {
   "cell_type": "code",
   "execution_count": 18,
   "metadata": {},
   "outputs": [
    {
     "data": {
      "image/png": "[encoded data removed]",
      "text/plain": [
       "<Figure size 432x288 with 1 Axes>"
      ]
     },
     "metadata": {
      "needs_background": "light"
     },
     "output_type": "display_data"
    }
   ],
   "source": [
    "# plot the loss log for train & test\n",
    "plt.plot(range(epochs), loss_log, label=\"train loss\")\n",
    "plt.plot(range(epochs), test_loss_log, label=\"test loss\")\n",
    "plt.title(\"Loss Analysis\")\n",
    "plt.xlabel(\"number of epoch(s)\")\n",
    "plt.ylabel(\"loss\")\n",
    "plt.legend(loc=\"upper right\")\n",
    "plt.show()"
   ]
  },
  {
   "cell_type": "code",
   "execution_count": null,
   "metadata": {},
   "outputs": [],
   "source": []
  }
 ],
 "metadata": {
  "kernelspec": {
   "display_name": "Python 3",
   "language": "python",
   "name": "python3"
  },
  "language_info": {
   "codemirror_mode": {
    "name": "ipython",
    "version": 3
   },
   "file_extension": ".py",
   "mimetype": "text/x-python",
   "name": "python",
   "nbconvert_exporter": "python",
   "pygments_lexer": "ipython3",
   "version": "3.5.2"
  }
 },
 "nbformat": 4,
 "nbformat_minor": 2
}
